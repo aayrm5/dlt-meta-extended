{
 "cells": [
  {
   "cell_type": "code",
   "execution_count": 0,
   "metadata": {
    "application/vnd.databricks.v1+cell": {
     "cellMetadata": {},
     "inputWidgets": {},
     "nuid": "a2c46f60-fa51-42fc-bb86-0bec6a2a8979",
     "showTitle": false,
     "tableResultSettingsMap": {},
     "title": ""
    }
   },
   "outputs": [],
   "source": [
    "%pip install --force-reinstall /Volumes/edap_dev/dlt_meta_ak_test_spec_schema/pmu_decoder/ab_translator-1.0.0-py3-none-any.whl"
   ]
  },
  {
   "cell_type": "code",
   "execution_count": 0,
   "metadata": {
    "application/vnd.databricks.v1+cell": {
     "cellMetadata": {},
     "inputWidgets": {},
     "nuid": "c7193ddb-5d76-4404-aef4-a027ab34d66b",
     "showTitle": false,
     "tableResultSettingsMap": {},
     "title": ""
    }
   },
   "outputs": [],
   "source": [
    "from ab_translator.pmu_decoder_helper import MessageParser\n",
    "parse_udf = MessageParser.get_udf(is_cancel=False)\n",
    "spark.udf.register(\"parse_message_udf\", parse_udf)\n",
    "parse_udf_cancel = MessageParser.get_udf(is_cancel=True)\n",
    "spark.udf.register(\"parse_message_cancel_udf\", parse_udf_cancel)"
   ]
  },
  {
   "cell_type": "code",
   "execution_count": 0,
   "metadata": {
    "application/vnd.databricks.v1+cell": {
     "cellMetadata": {},
     "inputWidgets": {},
     "nuid": "430653d5-5267-4a4c-a71f-eff58e8f0b92",
     "showTitle": false,
     "tableResultSettingsMap": {},
     "title": ""
    }
   },
   "outputs": [],
   "source": [
    "layer = spark.conf.get(\"layer\", None)\n",
    "encrypt_function_name = spark.conf.get(\"encrypt_function\", None)\n",
    "decrypt_function_name = spark.conf.get(\"decrypt_function\", None)"
   ]
  },
  {
   "cell_type": "code",
   "execution_count": 0,
   "metadata": {
    "application/vnd.databricks.v1+cell": {
     "cellMetadata": {},
     "inputWidgets": {},
     "nuid": "24c49f21-cb60-4b78-ba2a-380dfea4d3d2",
     "showTitle": false,
     "tableResultSettingsMap": {},
     "title": ""
    }
   },
   "outputs": [],
   "source": [
    "from src.dataflow_pipeline import DataflowPipeline\n",
    "DataflowPipeline.invoke_dlt_pipeline(\n",
    "    spark, \n",
    "    layer, \n",
    "    encrypt_function_name=encrypt_function_name,\n",
    "    decrypt_function_name=decrypt_function_name\n",
    "    )"
   ]
  }
 ],
 "metadata": {
  "application/vnd.databricks.v1+notebook": {
   "computePreferences": null,
   "dashboards": [],
   "environmentMetadata": {
    "base_environment": "",
    "environment_version": "2"
   },
   "inputWidgetPreferences": null,
   "language": "python",
   "notebookMetadata": {
    "pythonIndentUnit": 4
   },
   "notebookName": "dlt_meta_pipeline",
   "widgets": {}
  },
  "language_info": {
   "name": "python"
  }
 },
 "nbformat": 4,
 "nbformat_minor": 0
}
