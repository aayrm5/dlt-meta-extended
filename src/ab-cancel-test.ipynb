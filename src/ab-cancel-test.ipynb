{
 "cells": [
  {
   "cell_type": "code",
   "execution_count": 0,
   "metadata": {
    "application/vnd.databricks.v1+cell": {
     "cellMetadata": {
      "byteLimit": 2048000,
      "rowLimit": 10000
     },
     "inputWidgets": {},
     "nuid": "34e3874c-3125-4820-a364-605711b69252",
     "showTitle": false,
     "tableResultSettingsMap": {},
     "title": ""
    }
   },
   "outputs": [],
   "source": [
    "%pip install /Volumes/catalog_dlt_meta/default/dlt-meta-volume/ab_cancel_translator_stubs/ab_cancel_translator_stubs-1.0.0-py3-none-any.whl"
   ]
  },
  {
   "cell_type": "code",
   "execution_count": 0,
   "metadata": {
    "application/vnd.databricks.v1+cell": {
     "cellMetadata": {
      "byteLimit": 2048000,
      "rowLimit": 10000
     },
     "inputWidgets": {},
     "nuid": "367f5dce-6fb9-467f-b21e-04b76c0c97cc",
     "showTitle": false,
     "tableResultSettingsMap": {},
     "title": ""
    }
   },
   "outputs": [],
   "source": [
    "dbutils.library.restartPython()"
   ]
  },
  {
   "cell_type": "code",
   "execution_count": 0,
   "metadata": {
    "application/vnd.databricks.v1+cell": {
     "cellMetadata": {
      "byteLimit": 2048000,
      "rowLimit": 10000
     },
     "inputWidgets": {},
     "nuid": "59a1364c-7521-4ff9-bfaa-50064c15955d",
     "showTitle": false,
     "tableResultSettingsMap": {},
     "title": ""
    }
   },
   "outputs": [],
   "source": [
    "# The .whl file provides these imports:\n",
    "from ab_cancel_translator_stubs import create_translator, Msg, TranslationResult\n",
    "from ab_cancel_translator_stubs.integration import IntegrationHelper\n",
    "\n",
    "# Your integration file uses those imports to create DLT-Meta specific functionality:\n",
    "class ABCancelTranslatorPipeline:\n",
    "    def __init__(self, spark, dataflow_spec):\n",
    "        self.translator = create_translator()  # From .whl\n",
    "        # DLT-Meta specific logic here"
   ]
  },
  {
   "cell_type": "code",
   "execution_count": 0,
   "metadata": {
    "application/vnd.databricks.v1+cell": {
     "cellMetadata": {
      "byteLimit": 2048000,
      "rowLimit": 10000
     },
     "inputWidgets": {},
     "nuid": "8f24a8d8-58fa-443a-9393-d5947ee55130",
     "showTitle": false,
     "tableResultSettingsMap": {},
     "title": ""
    }
   },
   "outputs": [],
   "source": [
    "import subprocess\n",
    "import sys\n",
    "import os\n",
    "\n",
    "wheel_path = '/Volumes/catalog_dlt_meta/default/dlt-meta-volume/ab_cancel_translator_stubs/ab_cancel_translator_stubs-1.0.0-py3-none-any.whl'\n",
    "\n",
    "subprocess.check_call([\n",
    "                sys.executable, \"-m\", \"pip\", \"install\", wheel_path, \"--quiet\"\n",
    "            ], stdout=subprocess.DEVNULL, stderr=subprocess.DEVNULL)"
   ]
  },
  {
   "cell_type": "code",
   "execution_count": 0,
   "metadata": {
    "application/vnd.databricks.v1+cell": {
     "cellMetadata": {
      "byteLimit": 2048000,
      "rowLimit": 10000
     },
     "inputWidgets": {},
     "nuid": "738e2ddc-6ab3-470c-8c59-baab0c213644",
     "showTitle": false,
     "tableResultSettingsMap": {},
     "title": ""
    }
   },
   "outputs": [],
   "source": [
    "def validate_ab_translator_availability():\n",
    "    \"\"\"Validate AB Cancel Translator availability\"\"\"\n",
    "    try:\n",
    "        from ab_cancel_translator_stubs import __version__\n",
    "        return True, __version__\n",
    "    except ImportError:\n",
    "        return False, None"
   ]
  },
  {
   "cell_type": "code",
   "execution_count": 0,
   "metadata": {
    "application/vnd.databricks.v1+cell": {
     "cellMetadata": {
      "byteLimit": 2048000,
      "rowLimit": 10000
     },
     "inputWidgets": {},
     "nuid": "714f4426-c26f-4647-8b3d-1ef0b0409853",
     "showTitle": false,
     "tableResultSettingsMap": {},
     "title": ""
    }
   },
   "outputs": [],
   "source": [
    "validate_ab_translator_availability()"
   ]
  },
  {
   "cell_type": "code",
   "execution_count": 0,
   "metadata": {
    "application/vnd.databricks.v1+cell": {
     "cellMetadata": {
      "byteLimit": 2048000,
      "rowLimit": 10000
     },
     "inputWidgets": {},
     "nuid": "54730ed3-0b57-4c2a-acb3-1d5ce82ad127",
     "showTitle": false,
     "tableResultSettingsMap": {},
     "title": ""
    }
   },
   "outputs": [],
   "source": [
    "def __get_onboarding_file_dataframe(onboarding_file_path, env, uc_catalog_name, bronze_schema, silver_schema,uc_volume_path):\n",
    "        onboarding_df = None\n",
    "        if onboarding_file_path.lower().endswith(\".json\") or onboarding_file_path.lower().endswith(\".template\"):\n",
    "            onboarding_df = spark.read.option(\"multiline\", \"true\").json(\n",
    "                onboarding_file_path\n",
    "            )\n",
    "            json_columns = onboarding_df.columns\n",
    "            updated_json_cols = [col.replace(\"{env}\", env) for col in json_columns]\n",
    "            # self.onboard_file_type = \"json\"\n",
    "            \n",
    "            from pyspark.sql.functions import expr,regexp_replace\n",
    "\n",
    "            onboarding_df = onboarding_df.withColumn(\n",
    "                \"bronze_database_{env}\",\n",
    "                expr(f\"'{uc_catalog_name}.{bronze_schema}'\")\n",
    "            ).withColumn(\n",
    "                \"silver_database_{env}\",\n",
    "                expr(f\"'{uc_catalog_name}.{silver_schema}'\")\n",
    "            ).withColumn(\n",
    "                \"bronze_data_quality_expectations_json_{env}\"\n",
    "                , regexp_replace(\"bronze_data_quality_expectations_json_{env}\",\"\\\\{uc_volume_path\\\\}\",uc_volume_path)\n",
    "            )\n",
    "\n",
    "            onboarding_df_dupes = (\n",
    "                onboarding_df.groupBy(\"data_flow_id\").count().filter(\"count > 1\")\n",
    "            )\n",
    "            if len(onboarding_df_dupes.head(1)) > 0:\n",
    "                onboarding_df_dupes.show()\n",
    "                raise Exception(\"onboarding file have duplicated data_flow_ids! \")\n",
    "        else:\n",
    "            raise Exception(\n",
    "                \"Onboarding file format not supported! Please provide json file format\"\n",
    "            )\n",
    "        return onboarding_df.toDF(*updated_json_cols)"
   ]
  },
  {
   "cell_type": "code",
   "execution_count": 0,
   "metadata": {
    "application/vnd.databricks.v1+cell": {
     "cellMetadata": {
      "byteLimit": 2048000,
      "rowLimit": 10000
     },
     "inputWidgets": {},
     "nuid": "e6fae172-6a7f-42e6-8ea6-1c928a7a4d7e",
     "showTitle": false,
     "tableResultSettingsMap": {},
     "title": ""
    }
   },
   "outputs": [],
   "source": [
    "onboarding_params_map = {\n",
    "\t\t\"database\": \"catalog_dlt_meta.spec_schema\",\n",
    "\t\t\"onboarding_file_path\": \"file:/Workspace/Users/riyazali.mohammad@celebaltech.com/dlt-meta/demo/conf/onboarding.template\",\n",
    "\t\t\"bronze_dataflowspec_table\": \"bronze_dataflowspec_table\", \n",
    "\t\t\"silver_dataflowspec_table\": \"silver_dataflowspec_table\",\n",
    "        \"bronze_schema\":\"bronze_schema\",\n",
    "        \"silver_schema\":\"silver_schema\",\n",
    "        \"uc_volume_path\":\"/volumes/dummy_path\",\n",
    "\t\t\"overwrite\": \"True\",\n",
    "\t\t\"env\": \"prod\",\n",
    "\t\t\"version\": \"v1\",\n",
    "\t\t\"import_author\": \"Riyaz\"\n",
    "\t\t}"
   ]
  },
  {
   "cell_type": "code",
   "execution_count": 0,
   "metadata": {
    "application/vnd.databricks.v1+cell": {
     "cellMetadata": {
      "byteLimit": 2048000,
      "rowLimit": 10000
     },
     "inputWidgets": {},
     "nuid": "6c5817e1-742c-4ae1-b30a-99916d7c9003",
     "showTitle": false,
     "tableResultSettingsMap": {},
     "title": ""
    }
   },
   "outputs": [],
   "source": [
    "display(__get_onboarding_file_dataframe(\n",
    "    onboarding_params_map['onboarding_file_path'],\n",
    "    onboarding_params_map['env'],\n",
    "    onboarding_params_map[\"database\"].split('.')[0],\n",
    "    onboarding_params_map[\"bronze_schema\"],\n",
    "    onboarding_params_map[\"silver_schema\"],\n",
    "    onboarding_params_map['uc_volume_path']\n",
    "))"
   ]
  },
  {
   "cell_type": "code",
   "execution_count": 0,
   "metadata": {
    "application/vnd.databricks.v1+cell": {
     "cellMetadata": {},
     "inputWidgets": {},
     "nuid": "0e401ce3-7e28-4d38-962f-ad67a15e69b0",
     "showTitle": false,
     "tableResultSettingsMap": {},
     "title": ""
    }
   },
   "outputs": [],
   "source": []
  }
 ],
 "metadata": {
  "application/vnd.databricks.v1+notebook": {
   "computePreferences": null,
   "dashboards": [],
   "environmentMetadata": {
    "base_environment": "",
    "environment_version": "2"
   },
   "inputWidgetPreferences": null,
   "language": "python",
   "notebookMetadata": {
    "pythonIndentUnit": 4
   },
   "notebookName": "ab-cancel-test",
   "widgets": {}
  },
  "language_info": {
   "name": "python"
  }
 },
 "nbformat": 4,
 "nbformat_minor": 0
}
