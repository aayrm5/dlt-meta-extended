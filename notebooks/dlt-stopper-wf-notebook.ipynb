{
 "cells": [
  {
   "cell_type": "markdown",
   "metadata": {
    "application/vnd.databricks.v1+cell": {
     "cellMetadata": {},
     "inputWidgets": {},
     "nuid": "5073e9be-2b03-4003-b512-cf2ba1cfb9e6",
     "showTitle": false,
     "tableResultSettingsMap": {},
     "title": ""
    }
   },
   "source": [
    "### Notebook to kill the workflow (and the dlt with-in) containing 2 dlt pipelines `hkjc_mv_customer_segment_gold` and `hkjc-wagering-dashboard-bronze-silver-gold-dlt-pipeline`.\n",
    "#### Trigger: To be triggered at midnight each day"
   ]
  },
  {
   "cell_type": "code",
   "execution_count": 0,
   "metadata": {
    "application/vnd.databricks.v1+cell": {
     "cellMetadata": {
      "byteLimit": 2048000,
      "rowLimit": 10000
     },
     "inputWidgets": {},
     "nuid": "22704bd5-36b9-43a6-b6a7-b1ecc7001c12",
     "showTitle": false,
     "tableResultSettingsMap": {},
     "title": ""
    }
   },
   "outputs": [],
   "source": [
    "from databricks.sdk import WorkspaceClient\n",
    "from databricks.sdk.service.pipelines import PipelineState\n",
    "from databricks.sdk.service.jobs import RunLifeCycleState\n",
    "import time\n",
    "import pyspark.sql.functions as F\n",
    "import requests"
   ]
  },
  {
   "cell_type": "code",
   "execution_count": 0,
   "metadata": {
    "application/vnd.databricks.v1+cell": {
     "cellMetadata": {
      "byteLimit": 2048000,
      "rowLimit": 10000
     },
     "inputWidgets": {},
     "nuid": "3c37131d-e065-4a91-ad00-457fb674a64a",
     "showTitle": false,
     "tableResultSettingsMap": {},
     "title": ""
    }
   },
   "outputs": [],
   "source": [
    "bearer_token = dbutils.notebook.entry_point.getDbutils().notebook().getContext().apiToken().getOrElse(None)\n",
    "workspace_url = spark.conf.get('spark.databricks.workspaceUrl')\n",
    "\n",
    "sdk_workspace_client = WorkspaceClient(token = bearer_token, host = workspace_url)"
   ]
  },
  {
   "cell_type": "code",
   "execution_count": 0,
   "metadata": {
    "application/vnd.databricks.v1+cell": {
     "cellMetadata": {},
     "inputWidgets": {},
     "nuid": "a00e9d85-e310-4f3f-9a7b-74726cf9357c",
     "showTitle": false,
     "tableResultSettingsMap": {},
     "title": ""
    }
   },
   "outputs": [],
   "source": [
    "wf_job_name = dbutils.widgets.get(\"wf_job_name\")"
   ]
  },
  {
   "cell_type": "code",
   "execution_count": 0,
   "metadata": {
    "application/vnd.databricks.v1+cell": {
     "cellMetadata": {},
     "inputWidgets": {},
     "nuid": "30c788ba-b36b-4a6c-8c4d-b2626d232fac",
     "showTitle": true,
     "tableResultSettingsMap": {},
     "title": "Find job_id by its name"
    }
   },
   "outputs": [],
   "source": [
    "# Find job_id by its name\n",
    "headers = {\n",
    "    'Authorization': f'Bearer {bearer_token}',\n",
    "    'Content-Type': 'application/json'\n",
    "}\n",
    "url = f\"https://{workspace_url}/api/2.1/jobs/list\"\n",
    "params = {'name': wf_job_name}\n",
    "\n",
    "response = requests.get(url, headers=headers, params=params)\n",
    "\n",
    "try:\n",
    "    if response.status_code == 200:\n",
    "        data = response.json()\n",
    "        if data.get('jobs'):\n",
    "            job = data['jobs'][0]\n",
    "            wf_job_id = job['job_id']\n",
    "            print(f\"Found Workflow '{wf_job_name}' -> Job ID: {wf_job_id}\")\n",
    "        else:\n",
    "            print(f\"Error: Workflow '{wf_job_name}' not found.\")\n",
    "    else:\n",
    "        print(f\"Error: {response.status_code} - {response.text}\")\n",
    "except Exception as e:\n",
    "        print(f\"Error finding Workflow '{wf_job_name}'\")\n",
    "        raise e"
   ]
  },
  {
   "cell_type": "code",
   "execution_count": 0,
   "metadata": {
    "application/vnd.databricks.v1+cell": {
     "cellMetadata": {},
     "inputWidgets": {},
     "nuid": "a7bcaac1-c037-4b61-9830-c1bce542b52e",
     "showTitle": false,
     "tableResultSettingsMap": {},
     "title": ""
    }
   },
   "outputs": [],
   "source": [
    "def get_dlt_pipeline_ids(client, workflow_job_id):\n",
    "    \"\"\"Function to get DLT pipeline IDs from workflow\"\"\"\n",
    "    pipeline_ids=[]\n",
    "    # Get job details and extract DLT pipeline IDs\n",
    "    job = client.jobs.get(job_id=workflow_job_id)\n",
    "    \n",
    "    if job.settings and job.settings.tasks:\n",
    "        for task in job.settings.tasks:\n",
    "            if hasattr(task, 'pipeline_task') and task.pipeline_task:\n",
    "                pipeline_ids.append(task.pipeline_task.pipeline_id)\n",
    "                print(f\"Found DLT task '{task.task_key}' -> Pipeline ID: {task.pipeline_task.pipeline_id}\")\n",
    "    \n",
    "    return pipeline_ids"
   ]
  },
  {
   "cell_type": "code",
   "execution_count": 0,
   "metadata": {
    "application/vnd.databricks.v1+cell": {
     "cellMetadata": {},
     "inputWidgets": {},
     "nuid": "c1725b21-94e1-412c-9197-6f1d48fb9cc5",
     "showTitle": false,
     "tableResultSettingsMap": {},
     "title": ""
    }
   },
   "outputs": [],
   "source": [
    "pipeline_ids = get_dlt_pipeline_ids(sdk_workspace_client, wf_job_id)\n",
    "print(pipeline_ids)"
   ]
  },
  {
   "cell_type": "code",
   "execution_count": 0,
   "metadata": {
    "application/vnd.databricks.v1+cell": {
     "cellMetadata": {},
     "inputWidgets": {},
     "nuid": "2fc29f5d-5d11-43ff-918e-3484e24e21ad",
     "showTitle": true,
     "tableResultSettingsMap": {},
     "title": "Stop the WF & DLT pipeline"
    }
   },
   "outputs": [],
   "source": [
    "# Extract all the job list, by default descending runs first\n",
    "wagering_dashboard_wf_active_runs = sdk_workspace_client.jobs.list_runs(job_id=wf_job_id)\n",
    "if wagering_dashboard_wf_active_runs:\n",
    "    active_runs = list(wagering_dashboard_wf_active_runs)\n",
    "\n",
    "# Extract the latest run_id for the above job_id\n",
    "if active_runs[0].state.life_cycle_state == RunLifeCycleState.RUNNING:\n",
    "    active_run_id = active_runs[0].run_id\n",
    "\n",
    "    # Stop the workflow\n",
    "    sdk_workspace_client.jobs.cancel_run(run_id=active_run_id)\n",
    "    print(f\"Cancel request submitted to the workflow: {wf_job_name} with run ID: {active_run_id}\")\n",
    "    print(f\"check the run status here: -> https://{workspace_url}/jobs/{wf_job_id}/runs/{active_run_id}\")\n",
    "\n",
    "    # MV CUSTOMER SEGMENT DLT PIPELINE\n",
    "    customer_segment_pl_id = pipeline_ids[0]\n",
    "    customer_segment = sdk_workspace_client.pipelines.get(pipeline_id = customer_segment_pl_id)\n",
    "    if customer_segment.state == PipelineState.RUNNING:\n",
    "        try:\n",
    "            # Stop the pipeline\n",
    "            sdk_workspace_client.pipelines.stop(pipeline_id=customer_segment_pl_id)\n",
    "            print(f\"Stop request submitted to the pipeline with id: {customer_segment.name}\")\n",
    "        except Exception as e:\n",
    "            print(f\"Error stopping {customer_segment.name} pipeline: {e}\")    \n",
    "\n",
    "        # Wait for the pipeline to stop\n",
    "        while customer_segment.state == PipelineState.RUNNING:\n",
    "            print(f\"waiting for {customer_segment.name} pipeline to stop...\")\n",
    "            time.sleep(10)\n",
    "            customer_segment = sdk_workspace_client.pipelines.get(pipeline_id = customer_segment_pl_id)\n",
    "            print(f\"Pipeline state: {customer_segment.state}\")\n",
    "\n",
    "    # WAGERING DASHBOARD DLT PIPELINE\n",
    "    wagering_dashboard_pl_id = pipeline_ids[1]\n",
    "    wagering_dashboard = sdk_workspace_client.pipelines.get(pipeline_id = wagering_dashboard_pl_id)\n",
    "    if wagering_dashboard.state == PipelineState.RUNNING:\n",
    "        try:\n",
    "            # Stop the pipeline\n",
    "            sdk_workspace_client.pipelines.stop(pipeline_id=wagering_dashboard_pl_id)\n",
    "            print(f\"Stop request submitted to the pipeline with id: {wagering_dashboard.name}\")\n",
    "        except Exception as e:\n",
    "            print(f\"Error stopping {wagering_dashboard.name} pipeline: {e}\")    \n",
    "\n",
    "        # Wait for the pipeline to stop\n",
    "        while wagering_dashboard.state == PipelineState.RUNNING:\n",
    "            print(f\"waiting for {wagering_dashboard.name} pipeline to stop...\")\n",
    "            time.sleep(10)\n",
    "            wagering_dashboard = sdk_workspace_client.pipelines.get(pipeline_id = wagering_dashboard_pl_id)\n",
    "            print(f\"Pipeline state: {wagering_dashboard.state}\")\n",
    "\n",
    "print(\"Pipelines are not running\")\n",
    "for i in pipeline_ids:\n",
    "    print(sdk_workspace_client.pipelines.get(pipeline_id = i).state)"
   ]
  }
 ],
 "metadata": {
  "application/vnd.databricks.v1+notebook": {
   "computePreferences": null,
   "dashboards": [],
   "environmentMetadata": {
    "base_environment": "",
    "environment_version": "2"
   },
   "inputWidgetPreferences": null,
   "language": "python",
   "notebookMetadata": {
    "pythonIndentUnit": 4
   },
   "notebookName": "dlt-stopper-wf-notebook",
   "widgets": {}
  },
  "language_info": {
   "name": "python"
  }
 },
 "nbformat": 4,
 "nbformat_minor": 0
}
