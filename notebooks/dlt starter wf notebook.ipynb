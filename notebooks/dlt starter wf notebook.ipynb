{
 "cells": [
  {
   "cell_type": "markdown",
   "metadata": {
    "application/vnd.databricks.v1+cell": {
     "cellMetadata": {
      "byteLimit": 2048000,
      "rowLimit": 10000
     },
     "inputWidgets": {},
     "nuid": "5073e9be-2b03-4003-b512-cf2ba1cfb9e6",
     "showTitle": false,
     "tableResultSettingsMap": {},
     "title": ""
    }
   },
   "source": [
    "### Notebook to trigger the workflow containing 2 dlt pipelines `hkjc_mv_customer_segment_gold` and `hkjc-wagering-dashboard-bronze-silver-gold-dlt-pipeline`.\n",
    "#### Trigger: To be triggered at 6 AM if it's a race day"
   ]
  },
  {
   "cell_type": "code",
   "execution_count": 0,
   "metadata": {
    "application/vnd.databricks.v1+cell": {
     "cellMetadata": {
      "byteLimit": 2048000,
      "rowLimit": 10000
     },
     "inputWidgets": {},
     "nuid": "22704bd5-36b9-43a6-b6a7-b1ecc7001c12",
     "showTitle": false,
     "tableResultSettingsMap": {},
     "title": ""
    }
   },
   "outputs": [],
   "source": [
    "from databricks.sdk import WorkspaceClient\n",
    "from databricks.sdk.service.pipelines import PipelineState\n",
    "from databricks.sdk.service.jobs import RunLifeCycleState\n",
    "import time\n",
    "import logging\n",
    "import pyspark.sql.functions as F\n"
   ]
  },
  {
   "cell_type": "code",
   "execution_count": 0,
   "metadata": {
    "application/vnd.databricks.v1+cell": {
     "cellMetadata": {
      "byteLimit": 2048000,
      "rowLimit": 10000
     },
     "inputWidgets": {},
     "nuid": "3c37131d-e065-4a91-ad00-457fb674a64a",
     "showTitle": false,
     "tableResultSettingsMap": {},
     "title": ""
    }
   },
   "outputs": [],
   "source": [
    "bearer_token = dbutils.notebook.entry_point.getDbutils().notebook().getContext().apiToken().getOrElse(None)\n",
    "workspace_url = spark.conf.get('spark.databricks.workspaceUrl')\n",
    "\n",
    "sdk_workspace_client = WorkspaceClient(token = bearer_token, host = workspace_url)"
   ]
  },
  {
   "cell_type": "code",
   "execution_count": 0,
   "metadata": {
    "application/vnd.databricks.v1+cell": {
     "cellMetadata": {
      "byteLimit": 2048000,
      "rowLimit": 10000
     },
     "inputWidgets": {},
     "nuid": "601d093f-9994-42f0-b7ab-053e75f6ac54",
     "showTitle": false,
     "tableResultSettingsMap": {},
     "title": ""
    }
   },
   "outputs": [],
   "source": [
    "wf_job_name = dbutils.widgets.get(\"wf_job_name\")"
   ]
  },
  {
   "cell_type": "code",
   "execution_count": 0,
   "metadata": {
    "application/vnd.databricks.v1+cell": {
     "cellMetadata": {
      "byteLimit": 2048000,
      "rowLimit": 10000
     },
     "inputWidgets": {},
     "nuid": "94cc1785-a02b-4fc3-8020-26349561047b",
     "showTitle": false,
     "tableResultSettingsMap": {},
     "title": ""
    }
   },
   "outputs": [],
   "source": [
    "# Find job_id by its name\n",
    "jobs_list = sdk_workspace_client.jobs.list()\n",
    "for job in jobs_list:\n",
    "    try:\n",
    "        if job.settings and job.settings.name == wf_job_name:\n",
    "            print(f\"Found Workflow '{wf_job_name}' -> Job ID: {job.job_id}\")\n",
    "            wf_job_id = job.job_id\n",
    "    except Exception as e:\n",
    "        print(f\"Error finding Workflow '{wf_job_name}'\")\n",
    "        raise e"
   ]
  },
  {
   "cell_type": "code",
   "execution_count": 0,
   "metadata": {
    "application/vnd.databricks.v1+cell": {
     "cellMetadata": {
      "byteLimit": 2048000,
      "rowLimit": 10000
     },
     "inputWidgets": {},
     "nuid": "cdb5b665-087d-480f-a585-648bc2ef0baf",
     "showTitle": false,
     "tableResultSettingsMap": {},
     "title": ""
    }
   },
   "outputs": [],
   "source": [
    "def get_dlt_pipeline_ids(client, workflow_job_id):\n",
    "    \"\"\"Function to get DLT pipeline IDs from workflow\"\"\"\n",
    "    pipeline_ids=[]\n",
    "    # Get job details and extract DLT pipeline IDs\n",
    "    job = client.jobs.get(job_id=workflow_job_id)\n",
    "    \n",
    "    if job.settings and job.settings.tasks:\n",
    "        for task in job.settings.tasks:\n",
    "            if hasattr(task, 'pipeline_task') and task.pipeline_task:\n",
    "                pipeline_ids.append(task.pipeline_task.pipeline_id)\n",
    "                print(f\"Found DLT task '{task.task_key}' -> Pipeline ID: {task.pipeline_task.pipeline_id}\")\n",
    "    \n",
    "    return pipeline_ids"
   ]
  },
  {
   "cell_type": "code",
   "execution_count": 0,
   "metadata": {
    "application/vnd.databricks.v1+cell": {
     "cellMetadata": {
      "byteLimit": 2048000,
      "rowLimit": 10000
     },
     "inputWidgets": {},
     "nuid": "f8019852-cb90-4026-8d98-3987e9e67c29",
     "showTitle": false,
     "tableResultSettingsMap": {},
     "title": ""
    }
   },
   "outputs": [],
   "source": [
    "pipeline_ids = get_dlt_pipeline_ids(sdk_workspace_client, wf_job_id)\n",
    "print(pipeline_ids)"
   ]
  },
  {
   "cell_type": "markdown",
   "metadata": {
    "application/vnd.databricks.v1+cell": {
     "cellMetadata": {
      "byteLimit": 2048000,
      "rowLimit": 10000
     },
     "inputWidgets": {},
     "nuid": "6bd14813-4c9a-4a32-bf96-735a8addf016",
     "showTitle": false,
     "tableResultSettingsMap": {},
     "title": ""
    }
   },
   "source": [
    "### Need to check the race-day "
   ]
  },
  {
   "cell_type": "code",
   "execution_count": 0,
   "metadata": {
    "application/vnd.databricks.v1+cell": {
     "cellMetadata": {
      "byteLimit": 2048000,
      "rowLimit": 10000
     },
     "inputWidgets": {},
     "nuid": "2902cc5e-aece-494e-8317-83b67e7213cf",
     "showTitle": false,
     "tableResultSettingsMap": {},
     "title": ""
    }
   },
   "outputs": [],
   "source": [
    "race_table = spark.read.table('edap_dev.ftr_wagering.v_wagering_dim_rs_meeting')"
   ]
  },
  {
   "cell_type": "code",
   "execution_count": 0,
   "metadata": {
    "application/vnd.databricks.v1+cell": {
     "cellMetadata": {
      "byteLimit": 2048000,
      "rowLimit": 10000
     },
     "inputWidgets": {},
     "nuid": "f0e9524d-d752-4e47-a312-b03f2e1245f5",
     "showTitle": true,
     "tableResultSettingsMap": {},
     "title": "Change the current_date"
    }
   },
   "outputs": [],
   "source": [
    "race_day_record = race_table.filter(\"is_current = 1 and date(meeting_date) = current_date() and meeting_location in ('HV', 'ST')\") \\\n",
    "           .groupBy(\"meeting_location\") \\\n",
    "           .agg(F.count(\"*\").alias(\"race_day_count\")).collect()\n",
    "\n",
    "if race_day_record:\n",
    "    is_race_day = True if race_day_record[0]['race_day_count'] > 0 else False\n",
    "    print(is_race_day)\n",
    "else:\n",
    "    print(\"Race day record not found\")\n",
    "    is_race_day = False\n",
    "    print(is_race_day)"
   ]
  },
  {
   "cell_type": "code",
   "execution_count": 0,
   "metadata": {
    "application/vnd.databricks.v1+cell": {
     "cellMetadata": {
      "byteLimit": 2048000,
      "rowLimit": 10000
     },
     "inputWidgets": {},
     "nuid": "8f32d2cb-4140-4a7d-a69f-aa9af5e15ac8",
     "showTitle": true,
     "tableResultSettingsMap": {},
     "title": "Race Day"
    }
   },
   "outputs": [],
   "source": [
    "if is_race_day:\n",
    "    #Run the Wagering dashboard workflow\n",
    "    run = sdk_workspace_client.jobs.run_now(job_id=wf_job_id)\n",
    "    print(f\"check the job-run triggered over here --> https://{workspace_url}/jobs/{wf_job_id}/runs/{run.run_id}\")\n",
    "else:\n",
    "    print(\"Not a race day\")"
   ]
  },
  {
   "cell_type": "code",
   "execution_count": 0,
   "metadata": {
    "application/vnd.databricks.v1+cell": {
     "cellMetadata": {
      "byteLimit": 2048000,
      "rowLimit": 10000
     },
     "inputWidgets": {},
     "nuid": "2fc29f5d-5d11-43ff-918e-3484e24e21ad",
     "showTitle": true,
     "tableResultSettingsMap": {},
     "title": "Not a Race Day - Stop the WF & DLT pipeline"
    }
   },
   "outputs": [],
   "source": [
    "if not is_race_day:\n",
    "    print(\"Not a race day, stopping the pipelines\")\n",
    "\n",
    "    # Extract all the job list, by default descending runs first\n",
    "    wagering_dashboard_wf_active_runs = sdk_workspace_client.jobs.list_runs(job_id=wf_job_id)\n",
    "    if wagering_dashboard_wf_active_runs:\n",
    "        active_runs = list(wagering_dashboard_wf_active_runs)\n",
    "    \n",
    "    # Extract the latest run_id for the above job_id\n",
    "    if active_runs[0].state.life_cycle_state == RunLifeCycleState.RUNNING:\n",
    "        active_run_id = active_runs[0].run_id\n",
    "\n",
    "        # Stop the workflow\n",
    "        sdk_workspace_client.jobs.cancel_run(run_id=active_run_id)\n",
    "        print(f\"Cancel request submitted to the workflow: {wf_job_name} with run ID: {active_run_id}\")\n",
    "        print(f\"check the run status here: --> https://{workspace_url}/jobs/{wf_job_id}/runs/{active_run_id}\")\n",
    "\n",
    "    # MV CUSTOMER SEGMENT DLT PIPELINE\n",
    "    customer_segment_pl_id = pipeline_ids[0]\n",
    "    customer_segment = sdk_workspace_client.pipelines.get(pipeline_id = customer_segment_pl_id)\n",
    "    if customer_segment.state == PipelineState.RUNNING:\n",
    "        try:\n",
    "            # Stop the pipeline\n",
    "            sdk_workspace_client.pipelines.stop(pipeline_id=customer_segment_pl_id)\n",
    "            print(f\"Stop request submitted to the pipeline: {customer_segment.name}\")\n",
    "        except Exception as e:\n",
    "            print(f\"Error stopping {customer_segment.name} pipeline: {e}\")    \n",
    "\n",
    "        # Wait for the pipeline to stop\n",
    "        while customer_segment.state == PipelineState.RUNNING:\n",
    "            print(f\"waiting for {customer_segment.name} pipeline to stop...\")\n",
    "            time.sleep(10)\n",
    "            customer_segment = sdk_workspace_client.pipelines.get(pipeline_id = customer_segment_pl_id)\n",
    "            print(f\"Pipeline state: {customer_segment.state}\")\n",
    "\n",
    "    # WAGERING DASHBOARD DLT PIPELINE\n",
    "    wagering_dashboard_pl_id = pipeline_ids[1]\n",
    "    wagering_dashboard = sdk_workspace_client.pipelines.get(pipeline_id = wagering_dashboard_pl_id)\n",
    "    if wagering_dashboard.state == PipelineState.RUNNING:\n",
    "        try:\n",
    "            # Stop the pipeline\n",
    "            sdk_workspace_client.pipelines.stop(pipeline_id=wagering_dashboard_pl_id)\n",
    "            print(f\"Stop request submitted to the pipeline: {wagering_dashboard.name}\")\n",
    "        except Exception as e:\n",
    "            print(f\"Error stopping {wagering_dashboard.name} pipeline: {e}\")    \n",
    "\n",
    "        # Wait for the pipeline to stop\n",
    "        while wagering_dashboard.state == PipelineState.RUNNING:\n",
    "            print(f\"waiting for {wagering_dashboard.name} pipeline to stop...\")\n",
    "            time.sleep(10)\n",
    "            wagering_dashboard = sdk_workspace_client.pipelines.get(pipeline_id = wagering_dashboard_pl_id)\n",
    "            print(f\"Pipeline state: {wagering_dashboard.state}\")\n",
    "    print(\"Pipelines are not running\")\n",
    "    for i in pipeline_ids:\n",
    "        print(sdk_workspace_client.pipelines.get(pipeline_id = i).state)\n",
    "else:\n",
    "    print(\"It's a race day, pipelines won't stop until midnight...\")\n"
   ]
  },
  {
   "cell_type": "code",
   "execution_count": 0,
   "metadata": {
    "application/vnd.databricks.v1+cell": {
     "cellMetadata": {
      "byteLimit": 2048000,
      "rowLimit": 10000
     },
     "inputWidgets": {},
     "nuid": "add9ec75-f7ea-4772-97f1-1bfc77165785",
     "showTitle": false,
     "tableResultSettingsMap": {},
     "title": ""
    }
   },
   "outputs": [],
   "source": []
  }
 ],
 "metadata": {
  "application/vnd.databricks.v1+notebook": {
   "computePreferences": null,
   "dashboards": [],
   "environmentMetadata": {
    "base_environment": "",
    "environment_version": "2"
   },
   "inputWidgetPreferences": null,
   "language": "python",
   "notebookMetadata": {
    "pythonIndentUnit": 4
   },
   "notebookName": "dlt starter wf notebook",
   "widgets": {}
  },
  "language_info": {
   "name": "python"
  }
 },
 "nbformat": 4,
 "nbformat_minor": 0
}
