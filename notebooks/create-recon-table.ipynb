{
 "cells": [
  {
   "cell_type": "code",
   "execution_count": 0,
   "metadata": {
    "application/vnd.databricks.v1+cell": {
     "cellMetadata": {
      "byteLimit": 2048000,
      "implicitDf": true,
      "rowLimit": 10000
     },
     "inputWidgets": {},
     "nuid": "0254d086-8130-48c9-81ad-c535857398dc",
     "showTitle": false,
     "tableResultSettingsMap": {},
     "title": ""
    }
   },
   "outputs": [],
   "source": [
    "%sql\n",
    "create or replace temp view bet_raw_data as(\n",
    "select \n",
    "  meeting_location,\n",
    "  meeting_date,\n",
    "  sub_segment,\n",
    "  CHANNEL,\n",
    "  bet_type,\n",
    "  race_no,\n",
    "  first_race_no,\n",
    "  last_race_no,\n",
    "  FO_Flag,\n",
    "  ACCOUNT_NO,\n",
    "  CUSTOMER_ID,\n",
    "  ttl_cost,\n",
    "  cancelled,\n",
    " CANCELLED_AMOUNT,\n",
    "TicketId,\n",
    "time_stamp\n",
    "from edap.uc_csii_dna_rt_racing_dashboard.race_transcation_event_pmu\n",
    "union all \n",
    "select \n",
    "  meeting_location,\n",
    "  meeting_date,\n",
    "   sub_segment,\n",
    "  CHANNEL,\n",
    "  bet_type,\n",
    "  race_no,\n",
    "  first_race_no,\n",
    "  last_race_no,\n",
    "  FO_Flag,\n",
    "  ACCOUNT_NO,\n",
    "  CUSTOMER_ID,\n",
    "  ttl_cost,\n",
    "  cancelled,\n",
    " CANCELLED_AMOUNT,\n",
    "TicketId,\n",
    "sell_time\n",
    "from edap.uc_csii_dna_rt_racing_dashboard.race_transcation_event_fo\n",
    "where cancelled = false)"
   ]
  },
  {
   "cell_type": "code",
   "execution_count": 0,
   "metadata": {
    "application/vnd.databricks.v1+cell": {
     "cellMetadata": {
      "byteLimit": 2048000,
      "implicitDf": true,
      "rowLimit": 10000
     },
     "inputWidgets": {},
     "nuid": "9c7f2588-92fc-4deb-9146-2a0c9f99697d",
     "showTitle": false,
     "tableResultSettingsMap": {},
     "title": ""
    }
   },
   "outputs": [],
   "source": [
    "%sql\n",
    "use edap.uc_csii_dna_rt_racing_dashboard"
   ]
  },
  {
   "cell_type": "code",
   "execution_count": 0,
   "metadata": {
    "application/vnd.databricks.v1+cell": {
     "cellMetadata": {
      "byteLimit": 2048000,
      "implicitDf": true,
      "rowLimit": 10000
     },
     "inputWidgets": {},
     "nuid": "7976f258-e974-4323-b7c7-7f9af0fb4794",
     "showTitle": false,
     "tableResultSettingsMap": {},
     "title": ""
    }
   },
   "outputs": [],
   "source": [
    "%sql\n",
    "create materialized view mv_race_data_recon as\n",
    "select meeting_location, meeting_date, last_race_no as race_no,  sum( ttl_cost) total_investment, count(distinct ticketid) as total_ticket, current_timestamp() as last_update_date from  bet_raw_data \n",
    "group by meeting_location, meeting_date,  last_race_no"
   ]
  },
  {
   "cell_type": "code",
   "execution_count": 0,
   "metadata": {
    "application/vnd.databricks.v1+cell": {
     "cellMetadata": {},
     "inputWidgets": {},
     "nuid": "1a90420f-451c-4718-9039-8fd038700e00",
     "showTitle": false,
     "tableResultSettingsMap": {},
     "title": ""
    }
   },
   "outputs": [],
   "source": []
  }
 ],
 "metadata": {
  "application/vnd.databricks.v1+notebook": {
   "computePreferences": null,
   "dashboards": [],
   "environmentMetadata": {
    "base_environment": "",
    "environment_version": "2"
   },
   "inputWidgetPreferences": null,
   "language": "python",
   "notebookMetadata": {
    "mostRecentlyExecutedCommandWithImplicitDF": {
     "commandId": 7857007291792912,
     "dataframes": [
      "_sqldf"
     ]
    },
    "pythonIndentUnit": 4
   },
   "notebookName": "create-recon-table",
   "widgets": {}
  },
  "language_info": {
   "name": "python"
  }
 },
 "nbformat": 4,
 "nbformat_minor": 0
}
