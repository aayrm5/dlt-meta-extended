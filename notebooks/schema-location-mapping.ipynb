{
 "cells": [
  {
   "cell_type": "code",
   "execution_count": 0,
   "metadata": {
    "application/vnd.databricks.v1+cell": {
     "cellMetadata": {},
     "inputWidgets": {},
     "nuid": "0372c93d-f411-4782-9c6e-a67f966a1ffd",
     "showTitle": false,
     "tableResultSettingsMap": {},
     "title": ""
    }
   },
   "outputs": [],
   "source": [
    "from pyspark.sql.utils import AnalysisException"
   ]
  },
  {
   "cell_type": "code",
   "execution_count": 0,
   "metadata": {
    "application/vnd.databricks.v1+cell": {
     "cellMetadata": {
      "byteLimit": 2048000,
      "rowLimit": 10000
     },
     "inputWidgets": {},
     "nuid": "abc91dbd-1a2a-4166-91b9-6f5d71a7e29d",
     "showTitle": false,
     "tableResultSettingsMap": {},
     "title": ""
    }
   },
   "outputs": [],
   "source": [
    "catalog_name = dbutils.widgets.get(\"catalog_name\")\n",
    "schema_names = dbutils.widgets.get(\"schema_names\")\n",
    "location_details = dbutils.widgets.get(\"location_details\")"
   ]
  },
  {
   "cell_type": "code",
   "execution_count": 0,
   "metadata": {
    "application/vnd.databricks.v1+cell": {
     "cellMetadata": {
      "byteLimit": 2048000,
      "rowLimit": 10000
     },
     "inputWidgets": {},
     "nuid": "c6220476-ff88-41bf-ac08-fe3bed1dc7ee",
     "showTitle": false,
     "tableResultSettingsMap": {},
     "title": ""
    }
   },
   "outputs": [],
   "source": [
    "print(schema_names)\n",
    "print(location_details)"
   ]
  },
  {
   "cell_type": "code",
   "execution_count": 0,
   "metadata": {
    "application/vnd.databricks.v1+cell": {
     "cellMetadata": {
      "byteLimit": 2048000,
      "rowLimit": 10000
     },
     "inputWidgets": {},
     "nuid": "baa02a12-e5da-4152-bec2-b66b4fd8dfc0",
     "showTitle": false,
     "tableResultSettingsMap": {},
     "title": ""
    }
   },
   "outputs": [],
   "source": [
    "schema_names_list = schema_names.split(',')\n",
    "location_details_list = location_details.split(',')"
   ]
  },
  {
   "cell_type": "code",
   "execution_count": 0,
   "metadata": {
    "application/vnd.databricks.v1+cell": {
     "cellMetadata": {
      "byteLimit": 2048000,
      "rowLimit": 10000
     },
     "inputWidgets": {},
     "nuid": "1343191d-e266-43fd-94d7-324008845571",
     "showTitle": false,
     "tableResultSettingsMap": {},
     "title": ""
    }
   },
   "outputs": [],
   "source": [
    "print(schema_names_list)\n",
    "print(location_details_list)"
   ]
  },
  {
   "cell_type": "code",
   "execution_count": 0,
   "metadata": {
    "application/vnd.databricks.v1+cell": {
     "cellMetadata": {},
     "inputWidgets": {},
     "nuid": "680e0223-8021-4fa7-bb96-7f2ff6d7e010",
     "showTitle": false,
     "tableResultSettingsMap": {},
     "title": ""
    }
   },
   "outputs": [],
   "source": [
    "def assign_locations_to_schemas(catalog_name, schemas, locations):\n",
    "    \"\"\"\n",
    "    Assign locations to schemas in order.\n",
    "    Args:\n",
    "        catalog_name (str): Catalog name\n",
    "        schemas (list): List of 3 schema names\n",
    "        locations (list): List of 3 locations (paths or external location names)\n",
    "    \"\"\"\n",
    "    \n",
    "    if len(schemas) != len(locations):\n",
    "        raise ValueError(f\"Schema count ({len(schemas)}) must match location count ({len(locations)})\")\n",
    "    \n",
    "    results = []\n",
    "    \n",
    "    for schema, location in zip(schemas, locations):\n",
    "        try:\n",
    "            # Check if schema exists\n",
    "            does_schema_exists = check_schema_exists(catalog_name, schema)\n",
    "            \n",
    "            if does_schema_exists:\n",
    "                # Alter existing schema\n",
    "                recreate_schema_with_location(catalog_name, schema, location)\n",
    "                results.append(f\"DROPPED & RECREATED THE SCHEMA WITH LOCATION: {catalog_name}.{schema} -> {location}\")\n",
    "            else:\n",
    "                # Create new schema\n",
    "                create_schema_with_location(catalog_name, schema, location)\n",
    "                results.append(f\"CREATED: {catalog_name}.{schema} -> {location}\")\n",
    "                \n",
    "        except Exception as e:\n",
    "            results.append(f\"ERROR: {catalog_name}.{schema} -> {str(e)}\")\n",
    "    \n",
    "    return results\n"
   ]
  },
  {
   "cell_type": "code",
   "execution_count": 0,
   "metadata": {
    "application/vnd.databricks.v1+cell": {
     "cellMetadata": {},
     "inputWidgets": {},
     "nuid": "e50eea10-2fc7-4552-a390-a16db7f1c210",
     "showTitle": false,
     "tableResultSettingsMap": {},
     "title": ""
    }
   },
   "outputs": [],
   "source": [
    "def check_schema_exists(catalog, schema):\n",
    "    \"\"\"Check if schema exists.\"\"\"\n",
    "    try:\n",
    "        spark.sql(f\"DESCRIBE SCHEMA `{catalog}`.`{schema}`\").collect()\n",
    "        return True\n",
    "    except AnalysisException:\n",
    "        return False"
   ]
  },
  {
   "cell_type": "code",
   "execution_count": 0,
   "metadata": {
    "application/vnd.databricks.v1+cell": {
     "cellMetadata": {},
     "inputWidgets": {},
     "nuid": "5eb75857-13d2-4300-baa5-8a9dde105f83",
     "showTitle": false,
     "tableResultSettingsMap": {},
     "title": ""
    }
   },
   "outputs": [],
   "source": [
    "def create_schema_with_location(catalog, schema, location):\n",
    "    \"\"\"Create schema with location.\"\"\"\n",
    "    location_clause = f\"MANAGED LOCATION `{location}`\" if not location.startswith(('s3://', 'gs://', 'abfss://')) else f\"MANAGED LOCATION '{location}'\"\n",
    "    \n",
    "    spark.sql(f\"\"\"\n",
    "        CREATE SCHEMA IF NOT EXISTS `{catalog}`.`{schema}`\n",
    "        {location_clause}\n",
    "    \"\"\")"
   ]
  },
  {
   "cell_type": "code",
   "execution_count": 0,
   "metadata": {
    "application/vnd.databricks.v1+cell": {
     "cellMetadata": {
      "byteLimit": 2048000,
      "rowLimit": 10000
     },
     "inputWidgets": {},
     "nuid": "82ffc1a4-fdcd-4d12-a873-bc64cb62b142",
     "showTitle": false,
     "tableResultSettingsMap": {},
     "title": ""
    }
   },
   "outputs": [],
   "source": [
    "def recreate_schema_with_location(catalog_name, schema_name, location):\n",
    "    \"\"\"Recreate schema with location.\"\"\"    \n",
    "    try:\n",
    "        # Drop existing schema if exists\n",
    "        spark.sql(f\"DROP SCHEMA IF EXISTS `{catalog_name}`.`{schema_name}` CASCADE\")\n",
    "\n",
    "        print(f\"DROPPED: {catalog_name}.{schema_name}\")\n",
    "        \n",
    "        # Create new schema with location\n",
    "        spark.sql(f\"\"\"\n",
    "            CREATE SCHEMA `{catalog_name}`.`{schema_name}`\n",
    "            MANAGED LOCATION '{location}'\n",
    "        \"\"\")\n",
    "        print(f\"RECREATED: {catalog_name}.{schema_name}\")\n",
    "        return f\"RECREATED: {catalog_name}.{schema_name}\"\n",
    "        \n",
    "    except Exception as e:\n",
    "        return f\"ERROR: {catalog_name}.{schema_name} -> {str(e)}\""
   ]
  },
  {
   "cell_type": "code",
   "execution_count": 0,
   "metadata": {
    "application/vnd.databricks.v1+cell": {
     "cellMetadata": {},
     "inputWidgets": {},
     "nuid": "dbfae755-5f72-45f2-929c-dbe0902e4235",
     "showTitle": false,
     "tableResultSettingsMap": {},
     "title": ""
    }
   },
   "outputs": [],
   "source": [
    "print(assign_locations_to_schemas(catalog_name, schema_names_list, location_details_list))"
   ]
  }
 ],
 "metadata": {
  "application/vnd.databricks.v1+notebook": {
   "computePreferences": null,
   "dashboards": [],
   "environmentMetadata": {
    "base_environment": "",
    "environment_version": "2"
   },
   "inputWidgetPreferences": null,
   "language": "python",
   "notebookMetadata": {
    "mostRecentlyExecutedCommandWithImplicitDF": {
     "commandId": 6736360626494720,
     "dataframes": [
      "_sqldf"
     ]
    },
    "pythonIndentUnit": 4
   },
   "notebookName": "schema-location-mapping",
   "widgets": {}
  },
  "language_info": {
   "name": "python"
  }
 },
 "nbformat": 4,
 "nbformat_minor": 0
}
