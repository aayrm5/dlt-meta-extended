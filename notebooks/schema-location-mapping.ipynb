{
 "cells": [
  {
   "cell_type": "code",
   "execution_count": 0,
   "metadata": {
    "application/vnd.databricks.v1+cell": {
     "cellMetadata": {},
     "inputWidgets": {},
     "nuid": "0372c93d-f411-4782-9c6e-a67f966a1ffd",
     "showTitle": false,
     "tableResultSettingsMap": {},
     "title": ""
    }
   },
   "outputs": [],
   "source": [
    "from pyspark.sql.utils import AnalysisException"
   ]
  },
  {
   "cell_type": "code",
   "execution_count": 0,
   "metadata": {
    "application/vnd.databricks.v1+cell": {
     "cellMetadata": {},
     "inputWidgets": {},
     "nuid": "abc91dbd-1a2a-4166-91b9-6f5d71a7e29d",
     "showTitle": false,
     "tableResultSettingsMap": {},
     "title": ""
    }
   },
   "outputs": [],
   "source": [
    "catalog_name = dbutils.widgets.get(\"catalog_name\")\n",
    "schema_names = dbutils.widgets.get(\"database_name\")\n",
    "location_details = dbutils.widgets.get(\"location_details\")"
   ]
  },
  {
   "cell_type": "code",
   "execution_count": 0,
   "metadata": {
    "application/vnd.databricks.v1+cell": {
     "cellMetadata": {},
     "inputWidgets": {},
     "nuid": "680e0223-8021-4fa7-bb96-7f2ff6d7e010",
     "showTitle": false,
     "tableResultSettingsMap": {},
     "title": ""
    }
   },
   "outputs": [],
   "source": [
    "def assign_locations_to_schemas(catalog_name, schemas, locations):\n",
    "    \"\"\"\n",
    "    Assign locations to schemas in order.\n",
    "    Args:\n",
    "        catalog_name (str): Catalog name\n",
    "        schemas (list): List of 3 schema names\n",
    "        locations (list): List of 3 locations (paths or external location names)\n",
    "    \"\"\"\n",
    "    \n",
    "    if len(schemas) != len(locations):\n",
    "        raise ValueError(f\"Schema count ({len(schemas)}) must match location count ({len(locations)})\")\n",
    "    \n",
    "    results = []\n",
    "    \n",
    "    for schema, location in zip(schemas, locations):\n",
    "        try:\n",
    "            # Check if schema exists\n",
    "            schema_exists = _schema_exists(catalog_name, schema)\n",
    "            \n",
    "            if schema_exists:\n",
    "                # Alter existing schema\n",
    "                _alter_schema_location(catalog_name, schema, location)\n",
    "                results.append(f\"ALTERED: {catalog_name}.{schema} -> {location}\")\n",
    "            else:\n",
    "                # Create new schema\n",
    "                _create_schema_with_location(catalog_name, schema, location)\n",
    "                results.append(f\"CREATED: {catalog_name}.{schema} -> {location}\")\n",
    "                \n",
    "        except Exception as e:\n",
    "            results.append(f\"ERROR: {catalog_name}.{schema} -> {str(e)}\")\n",
    "    \n",
    "    return results\n"
   ]
  },
  {
   "cell_type": "code",
   "execution_count": 0,
   "metadata": {
    "application/vnd.databricks.v1+cell": {
     "cellMetadata": {},
     "inputWidgets": {},
     "nuid": "e50eea10-2fc7-4552-a390-a16db7f1c210",
     "showTitle": false,
     "tableResultSettingsMap": {},
     "title": ""
    }
   },
   "outputs": [],
   "source": [
    "def _schema_exists(catalog, schema):\n",
    "    \"\"\"Check if schema exists.\"\"\"\n",
    "    try:\n",
    "        spark.sql(f\"DESCRIBE SCHEMA `{catalog}`.`{schema}`\").collect()\n",
    "        return True\n",
    "    except AnalysisException:\n",
    "        return False"
   ]
  },
  {
   "cell_type": "code",
   "execution_count": 0,
   "metadata": {
    "application/vnd.databricks.v1+cell": {
     "cellMetadata": {},
     "inputWidgets": {},
     "nuid": "5eb75857-13d2-4300-baa5-8a9dde105f83",
     "showTitle": false,
     "tableResultSettingsMap": {},
     "title": ""
    }
   },
   "outputs": [],
   "source": [
    "def _create_schema_with_location(catalog, schema, location):\n",
    "    \"\"\"Create schema with location.\"\"\"\n",
    "    location_clause = f\"LOCATION `{location}`\" if not location.startswith(('s3://', 'gs://', 'abfss://')) else f\"LOCATION '{location}'\"\n",
    "    \n",
    "    spark.sql(f\"\"\"\n",
    "        CREATE SCHEMA IF NOT EXISTS `{catalog}`.`{schema}`\n",
    "        {location_clause}\n",
    "    \"\"\")"
   ]
  },
  {
   "cell_type": "code",
   "execution_count": 0,
   "metadata": {
    "application/vnd.databricks.v1+cell": {
     "cellMetadata": {},
     "inputWidgets": {},
     "nuid": "8afbe0f8-336d-4f88-a0bf-5ac1e97975f8",
     "showTitle": false,
     "tableResultSettingsMap": {},
     "title": ""
    }
   },
   "outputs": [],
   "source": [
    "def _alter_schema_location(catalog, schema, location):\n",
    "    \"\"\"Add/update schema location.\"\"\"\n",
    "    location_clause = f\"SET LOCATION `{location}`\" if not location.startswith(('s3://', 'gs://', 'abfss://')) else f\"SET LOCATION '{location}'\"\n",
    "    \n",
    "    spark.sql(f\"\"\"\n",
    "        ALTER SCHEMA `{catalog}`.`{schema}`\n",
    "        {location_clause}\n",
    "    \"\"\")"
   ]
  },
  {
   "cell_type": "code",
   "execution_count": 0,
   "metadata": {
    "application/vnd.databricks.v1+cell": {
     "cellMetadata": {},
     "inputWidgets": {},
     "nuid": "dbfae755-5f72-45f2-929c-dbe0902e4235",
     "showTitle": false,
     "tableResultSettingsMap": {},
     "title": ""
    }
   },
   "outputs": [],
   "source": [
    "print(assign_locations_to_schemas(catalog_name, schema_names, location_details))"
   ]
  },
  {
   "cell_type": "markdown",
   "metadata": {
    "application/vnd.databricks.v1+cell": {
     "cellMetadata": {},
     "inputWidgets": {},
     "nuid": "36247c6c-6620-466e-9085-867b7c350052",
     "showTitle": false,
     "tableResultSettingsMap": {},
     "title": ""
    }
   },
   "source": [
    "testing code cells below"
   ]
  },
  {
   "cell_type": "code",
   "execution_count": 0,
   "metadata": {
    "application/vnd.databricks.v1+cell": {
     "cellMetadata": {
      "byteLimit": 2048000,
      "implicitDf": true,
      "rowLimit": 10000
     },
     "inputWidgets": {},
     "nuid": "1575ec31-9bd5-45fc-be58-af49e219afce",
     "showTitle": false,
     "tableResultSettingsMap": {},
     "title": ""
    }
   },
   "outputs": [],
   "source": [
    "%sql\n",
    "create schema edap.schema_test1 \n",
    "MANAGED LOCATION 'abfss://uc-csii-dna-rt-racing-dashboard@adlsedapcsiidnadevea002.dfs.core.windows.net/'"
   ]
  },
  {
   "cell_type": "code",
   "execution_count": 0,
   "metadata": {
    "application/vnd.databricks.v1+cell": {
     "cellMetadata": {},
     "inputWidgets": {},
     "nuid": "d0b30044-9cdb-4aee-b9b0-7687e5a7de69",
     "showTitle": false,
     "tableResultSettingsMap": {},
     "title": ""
    }
   },
   "outputs": [],
   "source": []
  }
 ],
 "metadata": {
  "application/vnd.databricks.v1+notebook": {
   "computePreferences": null,
   "dashboards": [],
   "environmentMetadata": {
    "base_environment": "",
    "environment_version": "2"
   },
   "inputWidgetPreferences": null,
   "language": "python",
   "notebookMetadata": {
    "mostRecentlyExecutedCommandWithImplicitDF": {
     "commandId": 6736360626494720,
     "dataframes": [
      "_sqldf"
     ]
    },
    "pythonIndentUnit": 4
   },
   "notebookName": "schema-location-mapping",
   "widgets": {}
  },
  "language_info": {
   "name": "python"
  }
 },
 "nbformat": 4,
 "nbformat_minor": 0
}
